{
  "nbformat": 4,
  "nbformat_minor": 0,
  "metadata": {
    "kernelspec": {
      "name": "Python 3.8.3 64-bit ('Nishan': virtualenv)",
      "display_name": "Python 3.8.3 64-bit ('Nishan': virtualenv)",
      "metadata": {
        "interpreter": {
          "hash": "3c12ff2dedf5af826ae21b09d0904c9be4c4d30df8a72b8990bb9f6bd22af4b1"
        }
      }
    },
    "language_info": {
      "codemirror_mode": {
        "name": "ipython",
        "version": 3
      },
      "file_extension": ".py",
      "mimetype": "text/x-python",
      "name": "python",
      "nbconvert_exporter": "python",
      "pygments_lexer": "ipython3",
      "version": "3.8.3-final"
    },
    "colab": {
      "name": "Part 3.ipynb",
      "provenance": [],
      "collapsed_sections": []
    },
    "accelerator": "GPU"
  },
  "cells": [
    {
      "cell_type": "markdown",
      "metadata": {
        "id": "AmECXWCfhgtH"
      },
      "source": [
        "# **Segmenting and Clustering Neighborhoods in Toronto**\n",
        "\n",
        "\n",
        "---\n",
        "\n"
      ]
    },
    {
      "cell_type": "code",
      "metadata": {
        "id": "AsS44u7whW8g"
      },
      "source": [
        "import requests\n",
        "import lxml.html as lh\n",
        "import bs4 as bs\n",
        "import urllib.request\n",
        "import numpy as np \n",
        "import pandas as pd"
      ],
      "execution_count": 3,
      "outputs": []
    },
    {
      "cell_type": "code",
      "metadata": {
        "id": "_LflSmE5hW9P"
      },
      "source": [
        "url = \"https://en.wikipedia.org/wiki/List_of_postal_codes_of_Canada:_M\"\n",
        "res = requests.get(url)\n",
        "soup = bs.BeautifulSoup(res.content,'lxml')\n",
        "table = soup.find_all('table')[0]\n",
        "df = pd.read_html(str(table))\n",
        "data = pd.read_json(df[0].to_json(orient='records'))"
      ],
      "execution_count": 4,
      "outputs": []
    },
    {
      "cell_type": "code",
      "metadata": {
        "id": "8Pax8VrQhW9z",
        "outputId": "d1d7d9b8-6ac3-4ab9-b7fa-52811a8fdb24",
        "colab": {
          "base_uri": "https://localhost:8080/",
          "height": 195
        }
      },
      "source": [
        "data.head()"
      ],
      "execution_count": 5,
      "outputs": [
        {
          "output_type": "execute_result",
          "data": {
            "text/html": [
              "<div>\n",
              "<style scoped>\n",
              "    .dataframe tbody tr th:only-of-type {\n",
              "        vertical-align: middle;\n",
              "    }\n",
              "\n",
              "    .dataframe tbody tr th {\n",
              "        vertical-align: top;\n",
              "    }\n",
              "\n",
              "    .dataframe thead th {\n",
              "        text-align: right;\n",
              "    }\n",
              "</style>\n",
              "<table border=\"1\" class=\"dataframe\">\n",
              "  <thead>\n",
              "    <tr style=\"text-align: right;\">\n",
              "      <th></th>\n",
              "      <th>Postal Code</th>\n",
              "      <th>Borough</th>\n",
              "      <th>Neighbourhood</th>\n",
              "    </tr>\n",
              "  </thead>\n",
              "  <tbody>\n",
              "    <tr>\n",
              "      <th>0</th>\n",
              "      <td>M1A</td>\n",
              "      <td>Not assigned</td>\n",
              "      <td>Not assigned</td>\n",
              "    </tr>\n",
              "    <tr>\n",
              "      <th>1</th>\n",
              "      <td>M2A</td>\n",
              "      <td>Not assigned</td>\n",
              "      <td>Not assigned</td>\n",
              "    </tr>\n",
              "    <tr>\n",
              "      <th>2</th>\n",
              "      <td>M3A</td>\n",
              "      <td>North York</td>\n",
              "      <td>Parkwoods</td>\n",
              "    </tr>\n",
              "    <tr>\n",
              "      <th>3</th>\n",
              "      <td>M4A</td>\n",
              "      <td>North York</td>\n",
              "      <td>Victoria Village</td>\n",
              "    </tr>\n",
              "    <tr>\n",
              "      <th>4</th>\n",
              "      <td>M5A</td>\n",
              "      <td>Downtown Toronto</td>\n",
              "      <td>Regent Park, Harbourfront</td>\n",
              "    </tr>\n",
              "  </tbody>\n",
              "</table>\n",
              "</div>"
            ],
            "text/plain": [
              "  Postal Code           Borough              Neighbourhood\n",
              "0         M1A      Not assigned               Not assigned\n",
              "1         M2A      Not assigned               Not assigned\n",
              "2         M3A        North York                  Parkwoods\n",
              "3         M4A        North York           Victoria Village\n",
              "4         M5A  Downtown Toronto  Regent Park, Harbourfront"
            ]
          },
          "metadata": {
            "tags": []
          },
          "execution_count": 5
        }
      ]
    },
    {
      "cell_type": "code",
      "metadata": {
        "id": "9b8H5dXMhW-M"
      },
      "source": [
        "raw_data_selected = data[data['Borough'] != 'Not assigned']"
      ],
      "execution_count": 6,
      "outputs": []
    },
    {
      "cell_type": "code",
      "metadata": {
        "id": "7UNBZhSehW-Z"
      },
      "source": [
        "raw_data_selected = raw_data_selected.groupby(['Borough', 'Postal Code'], as_index=False).agg(','.join)"
      ],
      "execution_count": 7,
      "outputs": []
    },
    {
      "cell_type": "code",
      "metadata": {
        "id": "Y_gBb66mhW-5",
        "outputId": "7380fe8d-d683-47e6-c0c8-124673cd0ef5",
        "colab": {
          "base_uri": "https://localhost:8080/",
          "height": 195
        }
      },
      "source": [
        "raw_data_selected.head()"
      ],
      "execution_count": 8,
      "outputs": [
        {
          "output_type": "execute_result",
          "data": {
            "text/html": [
              "<div>\n",
              "<style scoped>\n",
              "    .dataframe tbody tr th:only-of-type {\n",
              "        vertical-align: middle;\n",
              "    }\n",
              "\n",
              "    .dataframe tbody tr th {\n",
              "        vertical-align: top;\n",
              "    }\n",
              "\n",
              "    .dataframe thead th {\n",
              "        text-align: right;\n",
              "    }\n",
              "</style>\n",
              "<table border=\"1\" class=\"dataframe\">\n",
              "  <thead>\n",
              "    <tr style=\"text-align: right;\">\n",
              "      <th></th>\n",
              "      <th>Borough</th>\n",
              "      <th>Postal Code</th>\n",
              "      <th>Neighbourhood</th>\n",
              "    </tr>\n",
              "  </thead>\n",
              "  <tbody>\n",
              "    <tr>\n",
              "      <th>0</th>\n",
              "      <td>Central Toronto</td>\n",
              "      <td>M4N</td>\n",
              "      <td>Lawrence Park</td>\n",
              "    </tr>\n",
              "    <tr>\n",
              "      <th>1</th>\n",
              "      <td>Central Toronto</td>\n",
              "      <td>M4P</td>\n",
              "      <td>Davisville North</td>\n",
              "    </tr>\n",
              "    <tr>\n",
              "      <th>2</th>\n",
              "      <td>Central Toronto</td>\n",
              "      <td>M4R</td>\n",
              "      <td>North Toronto West, Lawrence Park</td>\n",
              "    </tr>\n",
              "    <tr>\n",
              "      <th>3</th>\n",
              "      <td>Central Toronto</td>\n",
              "      <td>M4S</td>\n",
              "      <td>Davisville</td>\n",
              "    </tr>\n",
              "    <tr>\n",
              "      <th>4</th>\n",
              "      <td>Central Toronto</td>\n",
              "      <td>M4T</td>\n",
              "      <td>Moore Park, Summerhill East</td>\n",
              "    </tr>\n",
              "  </tbody>\n",
              "</table>\n",
              "</div>"
            ],
            "text/plain": [
              "           Borough Postal Code                      Neighbourhood\n",
              "0  Central Toronto         M4N                      Lawrence Park\n",
              "1  Central Toronto         M4P                   Davisville North\n",
              "2  Central Toronto         M4R  North Toronto West, Lawrence Park\n",
              "3  Central Toronto         M4S                         Davisville\n",
              "4  Central Toronto         M4T        Moore Park, Summerhill East"
            ]
          },
          "metadata": {
            "tags": []
          },
          "execution_count": 8
        }
      ]
    },
    {
      "cell_type": "code",
      "metadata": {
        "id": "QkNfO-HghW_m"
      },
      "source": [
        "raw_data_selected['Neighbourhood'] = np.where(raw_data_selected['Neighbourhood'] == 'Not assigned', raw_data_selected['Borough'], raw_data_selected['Neighbourhood'])"
      ],
      "execution_count": 9,
      "outputs": []
    },
    {
      "cell_type": "code",
      "metadata": {
        "id": "ytk5AvQOhW_6",
        "outputId": "1b7ddaae-1f77-427d-a382-7971d48ecebd",
        "colab": {
          "base_uri": "https://localhost:8080/"
        }
      },
      "source": [
        "raw_data_selected.shape"
      ],
      "execution_count": 10,
      "outputs": [
        {
          "output_type": "execute_result",
          "data": {
            "text/plain": [
              "(103, 3)"
            ]
          },
          "metadata": {
            "tags": []
          },
          "execution_count": 10
        }
      ]
    },
    {
      "cell_type": "code",
      "metadata": {
        "id": "FI8Ar24uhXAK"
      },
      "source": [
        "geospatial_url = \"https://cocl.us/Geospatial_data\"\n",
        "geospatial_data = pd.read_csv(geospatial_url)"
      ],
      "execution_count": 11,
      "outputs": []
    },
    {
      "cell_type": "code",
      "metadata": {
        "id": "9FEvDWZdhXAe",
        "outputId": "a17ec15e-0f4b-41f9-ed7d-9f534fe95f10",
        "colab": {
          "base_uri": "https://localhost:8080/",
          "height": 195
        }
      },
      "source": [
        "geospatial_data.head()"
      ],
      "execution_count": 12,
      "outputs": [
        {
          "output_type": "execute_result",
          "data": {
            "text/html": [
              "<div>\n",
              "<style scoped>\n",
              "    .dataframe tbody tr th:only-of-type {\n",
              "        vertical-align: middle;\n",
              "    }\n",
              "\n",
              "    .dataframe tbody tr th {\n",
              "        vertical-align: top;\n",
              "    }\n",
              "\n",
              "    .dataframe thead th {\n",
              "        text-align: right;\n",
              "    }\n",
              "</style>\n",
              "<table border=\"1\" class=\"dataframe\">\n",
              "  <thead>\n",
              "    <tr style=\"text-align: right;\">\n",
              "      <th></th>\n",
              "      <th>Postal Code</th>\n",
              "      <th>Latitude</th>\n",
              "      <th>Longitude</th>\n",
              "    </tr>\n",
              "  </thead>\n",
              "  <tbody>\n",
              "    <tr>\n",
              "      <th>0</th>\n",
              "      <td>M1B</td>\n",
              "      <td>43.806686</td>\n",
              "      <td>-79.194353</td>\n",
              "    </tr>\n",
              "    <tr>\n",
              "      <th>1</th>\n",
              "      <td>M1C</td>\n",
              "      <td>43.784535</td>\n",
              "      <td>-79.160497</td>\n",
              "    </tr>\n",
              "    <tr>\n",
              "      <th>2</th>\n",
              "      <td>M1E</td>\n",
              "      <td>43.763573</td>\n",
              "      <td>-79.188711</td>\n",
              "    </tr>\n",
              "    <tr>\n",
              "      <th>3</th>\n",
              "      <td>M1G</td>\n",
              "      <td>43.770992</td>\n",
              "      <td>-79.216917</td>\n",
              "    </tr>\n",
              "    <tr>\n",
              "      <th>4</th>\n",
              "      <td>M1H</td>\n",
              "      <td>43.773136</td>\n",
              "      <td>-79.239476</td>\n",
              "    </tr>\n",
              "  </tbody>\n",
              "</table>\n",
              "</div>"
            ],
            "text/plain": [
              "  Postal Code   Latitude  Longitude\n",
              "0         M1B  43.806686 -79.194353\n",
              "1         M1C  43.784535 -79.160497\n",
              "2         M1E  43.763573 -79.188711\n",
              "3         M1G  43.770992 -79.216917\n",
              "4         M1H  43.773136 -79.239476"
            ]
          },
          "metadata": {
            "tags": []
          },
          "execution_count": 12
        }
      ]
    },
    {
      "cell_type": "code",
      "metadata": {
        "id": "82HMT95IhXAw"
      },
      "source": [
        "geospatial_data.columns = ['Postal Code', 'Latitude', 'Longitude']"
      ],
      "execution_count": 13,
      "outputs": []
    },
    {
      "cell_type": "code",
      "metadata": {
        "id": "CXQdKg0BhXA_",
        "outputId": "eea51b1c-3d6f-4d02-c41a-39d913a227ab",
        "colab": {
          "base_uri": "https://localhost:8080/"
        }
      },
      "source": [
        "geospatial_data.columns"
      ],
      "execution_count": 14,
      "outputs": [
        {
          "output_type": "execute_result",
          "data": {
            "text/plain": [
              "Index(['Postal Code', 'Latitude', 'Longitude'], dtype='object')"
            ]
          },
          "metadata": {
            "tags": []
          },
          "execution_count": 14
        }
      ]
    },
    {
      "cell_type": "code",
      "metadata": {
        "id": "fmmahVKZhXBQ"
      },
      "source": [
        "merged_data = pd.merge(raw_data_selected, geospatial_data, on='Postal Code')"
      ],
      "execution_count": 15,
      "outputs": []
    },
    {
      "cell_type": "code",
      "metadata": {
        "id": "tVIGZEg-hXBi",
        "outputId": "c9085fbf-cfd9-4318-df10-a5d08541860b",
        "colab": {
          "base_uri": "https://localhost:8080/",
          "height": 402
        }
      },
      "source": [
        "merged_data.head(12)"
      ],
      "execution_count": 16,
      "outputs": [
        {
          "output_type": "execute_result",
          "data": {
            "text/html": [
              "<div>\n",
              "<style scoped>\n",
              "    .dataframe tbody tr th:only-of-type {\n",
              "        vertical-align: middle;\n",
              "    }\n",
              "\n",
              "    .dataframe tbody tr th {\n",
              "        vertical-align: top;\n",
              "    }\n",
              "\n",
              "    .dataframe thead th {\n",
              "        text-align: right;\n",
              "    }\n",
              "</style>\n",
              "<table border=\"1\" class=\"dataframe\">\n",
              "  <thead>\n",
              "    <tr style=\"text-align: right;\">\n",
              "      <th></th>\n",
              "      <th>Borough</th>\n",
              "      <th>Postal Code</th>\n",
              "      <th>Neighbourhood</th>\n",
              "      <th>Latitude</th>\n",
              "      <th>Longitude</th>\n",
              "    </tr>\n",
              "  </thead>\n",
              "  <tbody>\n",
              "    <tr>\n",
              "      <th>0</th>\n",
              "      <td>Central Toronto</td>\n",
              "      <td>M4N</td>\n",
              "      <td>Lawrence Park</td>\n",
              "      <td>43.728020</td>\n",
              "      <td>-79.388790</td>\n",
              "    </tr>\n",
              "    <tr>\n",
              "      <th>1</th>\n",
              "      <td>Central Toronto</td>\n",
              "      <td>M4P</td>\n",
              "      <td>Davisville North</td>\n",
              "      <td>43.712751</td>\n",
              "      <td>-79.390197</td>\n",
              "    </tr>\n",
              "    <tr>\n",
              "      <th>2</th>\n",
              "      <td>Central Toronto</td>\n",
              "      <td>M4R</td>\n",
              "      <td>North Toronto West, Lawrence Park</td>\n",
              "      <td>43.715383</td>\n",
              "      <td>-79.405678</td>\n",
              "    </tr>\n",
              "    <tr>\n",
              "      <th>3</th>\n",
              "      <td>Central Toronto</td>\n",
              "      <td>M4S</td>\n",
              "      <td>Davisville</td>\n",
              "      <td>43.704324</td>\n",
              "      <td>-79.388790</td>\n",
              "    </tr>\n",
              "    <tr>\n",
              "      <th>4</th>\n",
              "      <td>Central Toronto</td>\n",
              "      <td>M4T</td>\n",
              "      <td>Moore Park, Summerhill East</td>\n",
              "      <td>43.689574</td>\n",
              "      <td>-79.383160</td>\n",
              "    </tr>\n",
              "    <tr>\n",
              "      <th>5</th>\n",
              "      <td>Central Toronto</td>\n",
              "      <td>M4V</td>\n",
              "      <td>Summerhill West, Rathnelly, South Hill, Forest...</td>\n",
              "      <td>43.686412</td>\n",
              "      <td>-79.400049</td>\n",
              "    </tr>\n",
              "    <tr>\n",
              "      <th>6</th>\n",
              "      <td>Central Toronto</td>\n",
              "      <td>M5N</td>\n",
              "      <td>Roselawn</td>\n",
              "      <td>43.711695</td>\n",
              "      <td>-79.416936</td>\n",
              "    </tr>\n",
              "    <tr>\n",
              "      <th>7</th>\n",
              "      <td>Central Toronto</td>\n",
              "      <td>M5P</td>\n",
              "      <td>Forest Hill North &amp; West, Forest Hill Road Park</td>\n",
              "      <td>43.696948</td>\n",
              "      <td>-79.411307</td>\n",
              "    </tr>\n",
              "    <tr>\n",
              "      <th>8</th>\n",
              "      <td>Central Toronto</td>\n",
              "      <td>M5R</td>\n",
              "      <td>The Annex, North Midtown, Yorkville</td>\n",
              "      <td>43.672710</td>\n",
              "      <td>-79.405678</td>\n",
              "    </tr>\n",
              "    <tr>\n",
              "      <th>9</th>\n",
              "      <td>Downtown Toronto</td>\n",
              "      <td>M4W</td>\n",
              "      <td>Rosedale</td>\n",
              "      <td>43.679563</td>\n",
              "      <td>-79.377529</td>\n",
              "    </tr>\n",
              "    <tr>\n",
              "      <th>10</th>\n",
              "      <td>Downtown Toronto</td>\n",
              "      <td>M4X</td>\n",
              "      <td>St. James Town, Cabbagetown</td>\n",
              "      <td>43.667967</td>\n",
              "      <td>-79.367675</td>\n",
              "    </tr>\n",
              "    <tr>\n",
              "      <th>11</th>\n",
              "      <td>Downtown Toronto</td>\n",
              "      <td>M4Y</td>\n",
              "      <td>Church and Wellesley</td>\n",
              "      <td>43.665860</td>\n",
              "      <td>-79.383160</td>\n",
              "    </tr>\n",
              "  </tbody>\n",
              "</table>\n",
              "</div>"
            ],
            "text/plain": [
              "             Borough Postal Code  ...   Latitude  Longitude\n",
              "0    Central Toronto         M4N  ...  43.728020 -79.388790\n",
              "1    Central Toronto         M4P  ...  43.712751 -79.390197\n",
              "2    Central Toronto         M4R  ...  43.715383 -79.405678\n",
              "3    Central Toronto         M4S  ...  43.704324 -79.388790\n",
              "4    Central Toronto         M4T  ...  43.689574 -79.383160\n",
              "5    Central Toronto         M4V  ...  43.686412 -79.400049\n",
              "6    Central Toronto         M5N  ...  43.711695 -79.416936\n",
              "7    Central Toronto         M5P  ...  43.696948 -79.411307\n",
              "8    Central Toronto         M5R  ...  43.672710 -79.405678\n",
              "9   Downtown Toronto         M4W  ...  43.679563 -79.377529\n",
              "10  Downtown Toronto         M4X  ...  43.667967 -79.367675\n",
              "11  Downtown Toronto         M4Y  ...  43.665860 -79.383160\n",
              "\n",
              "[12 rows x 5 columns]"
            ]
          },
          "metadata": {
            "tags": []
          },
          "execution_count": 16
        }
      ]
    },
    {
      "cell_type": "code",
      "metadata": {
        "id": "E7EiG86JYQgw",
        "outputId": "5b844ffc-9a07-4ded-ad68-8ba5b96caef0",
        "colab": {
          "base_uri": "https://localhost:8080/"
        }
      },
      "source": [
        "!pip install geopandas"
      ],
      "execution_count": 18,
      "outputs": [
        {
          "output_type": "stream",
          "text": [
            "Collecting geopandas\n",
            "\u001b[?25l  Downloading https://files.pythonhosted.org/packages/f7/a4/e66aafbefcbb717813bf3a355c8c4fc3ed04ea1dd7feb2920f2f4f868921/geopandas-0.8.1-py2.py3-none-any.whl (962kB)\n",
            "\r\u001b[K     |▍                               | 10kB 30.6MB/s eta 0:00:01\r\u001b[K     |▊                               | 20kB 20.9MB/s eta 0:00:01\r\u001b[K     |█                               | 30kB 26.1MB/s eta 0:00:01\r\u001b[K     |█▍                              | 40kB 18.5MB/s eta 0:00:01\r\u001b[K     |█▊                              | 51kB 13.7MB/s eta 0:00:01\r\u001b[K     |██                              | 61kB 13.5MB/s eta 0:00:01\r\u001b[K     |██▍                             | 71kB 12.4MB/s eta 0:00:01\r\u001b[K     |██▊                             | 81kB 12.3MB/s eta 0:00:01\r\u001b[K     |███                             | 92kB 11.8MB/s eta 0:00:01\r\u001b[K     |███▍                            | 102kB 11.8MB/s eta 0:00:01\r\u001b[K     |███▊                            | 112kB 11.8MB/s eta 0:00:01\r\u001b[K     |████                            | 122kB 11.8MB/s eta 0:00:01\r\u001b[K     |████▍                           | 133kB 11.8MB/s eta 0:00:01\r\u001b[K     |████▊                           | 143kB 11.8MB/s eta 0:00:01\r\u001b[K     |█████                           | 153kB 11.8MB/s eta 0:00:01\r\u001b[K     |█████▌                          | 163kB 11.8MB/s eta 0:00:01\r\u001b[K     |█████▉                          | 174kB 11.8MB/s eta 0:00:01\r\u001b[K     |██████▏                         | 184kB 11.8MB/s eta 0:00:01\r\u001b[K     |██████▌                         | 194kB 11.8MB/s eta 0:00:01\r\u001b[K     |██████▉                         | 204kB 11.8MB/s eta 0:00:01\r\u001b[K     |███████▏                        | 215kB 11.8MB/s eta 0:00:01\r\u001b[K     |███████▌                        | 225kB 11.8MB/s eta 0:00:01\r\u001b[K     |███████▉                        | 235kB 11.8MB/s eta 0:00:01\r\u001b[K     |████████▏                       | 245kB 11.8MB/s eta 0:00:01\r\u001b[K     |████████▌                       | 256kB 11.8MB/s eta 0:00:01\r\u001b[K     |████████▉                       | 266kB 11.8MB/s eta 0:00:01\r\u001b[K     |█████████▏                      | 276kB 11.8MB/s eta 0:00:01\r\u001b[K     |█████████▌                      | 286kB 11.8MB/s eta 0:00:01\r\u001b[K     |█████████▉                      | 296kB 11.8MB/s eta 0:00:01\r\u001b[K     |██████████▏                     | 307kB 11.8MB/s eta 0:00:01\r\u001b[K     |██████████▌                     | 317kB 11.8MB/s eta 0:00:01\r\u001b[K     |███████████                     | 327kB 11.8MB/s eta 0:00:01\r\u001b[K     |███████████▎                    | 337kB 11.8MB/s eta 0:00:01\r\u001b[K     |███████████▋                    | 348kB 11.8MB/s eta 0:00:01\r\u001b[K     |████████████                    | 358kB 11.8MB/s eta 0:00:01\r\u001b[K     |████████████▎                   | 368kB 11.8MB/s eta 0:00:01\r\u001b[K     |████████████▋                   | 378kB 11.8MB/s eta 0:00:01\r\u001b[K     |█████████████                   | 389kB 11.8MB/s eta 0:00:01\r\u001b[K     |█████████████▎                  | 399kB 11.8MB/s eta 0:00:01\r\u001b[K     |█████████████▋                  | 409kB 11.8MB/s eta 0:00:01\r\u001b[K     |██████████████                  | 419kB 11.8MB/s eta 0:00:01\r\u001b[K     |██████████████▎                 | 430kB 11.8MB/s eta 0:00:01\r\u001b[K     |██████████████▋                 | 440kB 11.8MB/s eta 0:00:01\r\u001b[K     |███████████████                 | 450kB 11.8MB/s eta 0:00:01\r\u001b[K     |███████████████▎                | 460kB 11.8MB/s eta 0:00:01\r\u001b[K     |███████████████▋                | 471kB 11.8MB/s eta 0:00:01\r\u001b[K     |████████████████                | 481kB 11.8MB/s eta 0:00:01\r\u001b[K     |████████████████▍               | 491kB 11.8MB/s eta 0:00:01\r\u001b[K     |████████████████▊               | 501kB 11.8MB/s eta 0:00:01\r\u001b[K     |█████████████████               | 512kB 11.8MB/s eta 0:00:01\r\u001b[K     |█████████████████▍              | 522kB 11.8MB/s eta 0:00:01\r\u001b[K     |█████████████████▊              | 532kB 11.8MB/s eta 0:00:01\r\u001b[K     |██████████████████              | 542kB 11.8MB/s eta 0:00:01\r\u001b[K     |██████████████████▍             | 552kB 11.8MB/s eta 0:00:01\r\u001b[K     |██████████████████▊             | 563kB 11.8MB/s eta 0:00:01\r\u001b[K     |███████████████████             | 573kB 11.8MB/s eta 0:00:01\r\u001b[K     |███████████████████▍            | 583kB 11.8MB/s eta 0:00:01\r\u001b[K     |███████████████████▊            | 593kB 11.8MB/s eta 0:00:01\r\u001b[K     |████████████████████            | 604kB 11.8MB/s eta 0:00:01\r\u001b[K     |████████████████████▍           | 614kB 11.8MB/s eta 0:00:01\r\u001b[K     |████████████████████▊           | 624kB 11.8MB/s eta 0:00:01\r\u001b[K     |█████████████████████           | 634kB 11.8MB/s eta 0:00:01\r\u001b[K     |█████████████████████▍          | 645kB 11.8MB/s eta 0:00:01\r\u001b[K     |█████████████████████▉          | 655kB 11.8MB/s eta 0:00:01\r\u001b[K     |██████████████████████▏         | 665kB 11.8MB/s eta 0:00:01\r\u001b[K     |██████████████████████▌         | 675kB 11.8MB/s eta 0:00:01\r\u001b[K     |██████████████████████▉         | 686kB 11.8MB/s eta 0:00:01\r\u001b[K     |███████████████████████▏        | 696kB 11.8MB/s eta 0:00:01\r\u001b[K     |███████████████████████▌        | 706kB 11.8MB/s eta 0:00:01\r\u001b[K     |███████████████████████▉        | 716kB 11.8MB/s eta 0:00:01\r\u001b[K     |████████████████████████▏       | 727kB 11.8MB/s eta 0:00:01\r\u001b[K     |████████████████████████▌       | 737kB 11.8MB/s eta 0:00:01\r\u001b[K     |████████████████████████▉       | 747kB 11.8MB/s eta 0:00:01\r\u001b[K     |█████████████████████████▏      | 757kB 11.8MB/s eta 0:00:01\r\u001b[K     |█████████████████████████▌      | 768kB 11.8MB/s eta 0:00:01\r\u001b[K     |█████████████████████████▉      | 778kB 11.8MB/s eta 0:00:01\r\u001b[K     |██████████████████████████▏     | 788kB 11.8MB/s eta 0:00:01\r\u001b[K     |██████████████████████████▌     | 798kB 11.8MB/s eta 0:00:01\r\u001b[K     |██████████████████████████▉     | 808kB 11.8MB/s eta 0:00:01\r\u001b[K     |███████████████████████████▎    | 819kB 11.8MB/s eta 0:00:01\r\u001b[K     |███████████████████████████▋    | 829kB 11.8MB/s eta 0:00:01\r\u001b[K     |████████████████████████████    | 839kB 11.8MB/s eta 0:00:01\r\u001b[K     |████████████████████████████▎   | 849kB 11.8MB/s eta 0:00:01\r\u001b[K     |████████████████████████████▋   | 860kB 11.8MB/s eta 0:00:01\r\u001b[K     |█████████████████████████████   | 870kB 11.8MB/s eta 0:00:01\r\u001b[K     |█████████████████████████████▎  | 880kB 11.8MB/s eta 0:00:01\r\u001b[K     |█████████████████████████████▋  | 890kB 11.8MB/s eta 0:00:01\r\u001b[K     |██████████████████████████████  | 901kB 11.8MB/s eta 0:00:01\r\u001b[K     |██████████████████████████████▎ | 911kB 11.8MB/s eta 0:00:01\r\u001b[K     |██████████████████████████████▋ | 921kB 11.8MB/s eta 0:00:01\r\u001b[K     |███████████████████████████████ | 931kB 11.8MB/s eta 0:00:01\r\u001b[K     |███████████████████████████████▎| 942kB 11.8MB/s eta 0:00:01\r\u001b[K     |███████████████████████████████▋| 952kB 11.8MB/s eta 0:00:01\r\u001b[K     |████████████████████████████████| 962kB 11.8MB/s eta 0:00:01\r\u001b[K     |████████████████████████████████| 972kB 11.8MB/s \n",
            "\u001b[?25hRequirement already satisfied: shapely in /usr/local/lib/python3.6/dist-packages (from geopandas) (1.7.1)\n",
            "Requirement already satisfied: pandas>=0.23.0 in /usr/local/lib/python3.6/dist-packages (from geopandas) (1.1.3)\n",
            "Collecting fiona\n",
            "\u001b[?25l  Downloading https://files.pythonhosted.org/packages/36/8b/e8b2c11bed5373c8e98edb85ce891b09aa1f4210fd451d0fb3696b7695a2/Fiona-1.8.17-cp36-cp36m-manylinux1_x86_64.whl (14.8MB)\n",
            "\u001b[K     |████████████████████████████████| 14.8MB 210kB/s \n",
            "\u001b[?25hCollecting pyproj>=2.2.0\n",
            "\u001b[?25l  Downloading https://files.pythonhosted.org/packages/e5/c3/071e080230ac4b6c64f1a2e2f9161c9737a2bc7b683d2c90b024825000c0/pyproj-2.6.1.post1-cp36-cp36m-manylinux2010_x86_64.whl (10.9MB)\n",
            "\u001b[K     |████████████████████████████████| 10.9MB 37.7MB/s \n",
            "\u001b[?25hRequirement already satisfied: python-dateutil>=2.7.3 in /usr/local/lib/python3.6/dist-packages (from pandas>=0.23.0->geopandas) (2.8.1)\n",
            "Requirement already satisfied: pytz>=2017.2 in /usr/local/lib/python3.6/dist-packages (from pandas>=0.23.0->geopandas) (2018.9)\n",
            "Requirement already satisfied: numpy>=1.15.4 in /usr/local/lib/python3.6/dist-packages (from pandas>=0.23.0->geopandas) (1.18.5)\n",
            "Collecting cligj>=0.5\n",
            "  Downloading https://files.pythonhosted.org/packages/ba/06/e3440b1f2dc802d35f329f299ba96153e9fcbfdef75e17f4b61f79430c6a/cligj-0.7.0-py3-none-any.whl\n",
            "Requirement already satisfied: click<8,>=4.0 in /usr/local/lib/python3.6/dist-packages (from fiona->geopandas) (7.1.2)\n",
            "Collecting munch\n",
            "  Downloading https://files.pythonhosted.org/packages/cc/ab/85d8da5c9a45e072301beb37ad7f833cd344e04c817d97e0cc75681d248f/munch-2.5.0-py2.py3-none-any.whl\n",
            "Collecting click-plugins>=1.0\n",
            "  Downloading https://files.pythonhosted.org/packages/e9/da/824b92d9942f4e472702488857914bdd50f73021efea15b4cad9aca8ecef/click_plugins-1.1.1-py2.py3-none-any.whl\n",
            "Requirement already satisfied: six>=1.7 in /usr/local/lib/python3.6/dist-packages (from fiona->geopandas) (1.15.0)\n",
            "Requirement already satisfied: attrs>=17 in /usr/local/lib/python3.6/dist-packages (from fiona->geopandas) (20.2.0)\n",
            "Installing collected packages: cligj, munch, click-plugins, fiona, pyproj, geopandas\n",
            "Successfully installed click-plugins-1.1.1 cligj-0.7.0 fiona-1.8.17 geopandas-0.8.1 munch-2.5.0 pyproj-2.6.1.post1\n"
          ],
          "name": "stdout"
        }
      ]
    },
    {
      "cell_type": "code",
      "metadata": {
        "id": "WTeFvNt7hXBv"
      },
      "source": [
        "from shapely.geometry import Point\n",
        "import matplotlib.pyplot as plt\n",
        "import geopandas as gpd\n",
        "import seaborn as sns"
      ],
      "execution_count": 19,
      "outputs": []
    },
    {
      "cell_type": "code",
      "metadata": {
        "id": "IbfICHUZhXCC"
      },
      "source": [
        "merged_data['Coordinates'] = list(zip(merged_data['Latitude'], merged_data['Longitude']))"
      ],
      "execution_count": 20,
      "outputs": []
    },
    {
      "cell_type": "code",
      "metadata": {
        "id": "KF2mDmsJhXCQ",
        "outputId": "ed916f42-065a-496f-ebfb-4a8cf1348b1f",
        "colab": {
          "base_uri": "https://localhost:8080/",
          "height": 195
        }
      },
      "source": [
        "merged_data.head()"
      ],
      "execution_count": 21,
      "outputs": [
        {
          "output_type": "execute_result",
          "data": {
            "text/html": [
              "<div>\n",
              "<style scoped>\n",
              "    .dataframe tbody tr th:only-of-type {\n",
              "        vertical-align: middle;\n",
              "    }\n",
              "\n",
              "    .dataframe tbody tr th {\n",
              "        vertical-align: top;\n",
              "    }\n",
              "\n",
              "    .dataframe thead th {\n",
              "        text-align: right;\n",
              "    }\n",
              "</style>\n",
              "<table border=\"1\" class=\"dataframe\">\n",
              "  <thead>\n",
              "    <tr style=\"text-align: right;\">\n",
              "      <th></th>\n",
              "      <th>Borough</th>\n",
              "      <th>Postal Code</th>\n",
              "      <th>Neighbourhood</th>\n",
              "      <th>Latitude</th>\n",
              "      <th>Longitude</th>\n",
              "      <th>Coordinates</th>\n",
              "    </tr>\n",
              "  </thead>\n",
              "  <tbody>\n",
              "    <tr>\n",
              "      <th>0</th>\n",
              "      <td>Central Toronto</td>\n",
              "      <td>M4N</td>\n",
              "      <td>Lawrence Park</td>\n",
              "      <td>43.728020</td>\n",
              "      <td>-79.388790</td>\n",
              "      <td>(43.7280205, -79.3887901)</td>\n",
              "    </tr>\n",
              "    <tr>\n",
              "      <th>1</th>\n",
              "      <td>Central Toronto</td>\n",
              "      <td>M4P</td>\n",
              "      <td>Davisville North</td>\n",
              "      <td>43.712751</td>\n",
              "      <td>-79.390197</td>\n",
              "      <td>(43.7127511, -79.3901975)</td>\n",
              "    </tr>\n",
              "    <tr>\n",
              "      <th>2</th>\n",
              "      <td>Central Toronto</td>\n",
              "      <td>M4R</td>\n",
              "      <td>North Toronto West, Lawrence Park</td>\n",
              "      <td>43.715383</td>\n",
              "      <td>-79.405678</td>\n",
              "      <td>(43.7153834, -79.40567840000001)</td>\n",
              "    </tr>\n",
              "    <tr>\n",
              "      <th>3</th>\n",
              "      <td>Central Toronto</td>\n",
              "      <td>M4S</td>\n",
              "      <td>Davisville</td>\n",
              "      <td>43.704324</td>\n",
              "      <td>-79.388790</td>\n",
              "      <td>(43.7043244, -79.3887901)</td>\n",
              "    </tr>\n",
              "    <tr>\n",
              "      <th>4</th>\n",
              "      <td>Central Toronto</td>\n",
              "      <td>M4T</td>\n",
              "      <td>Moore Park, Summerhill East</td>\n",
              "      <td>43.689574</td>\n",
              "      <td>-79.383160</td>\n",
              "      <td>(43.6895743, -79.38315990000001)</td>\n",
              "    </tr>\n",
              "  </tbody>\n",
              "</table>\n",
              "</div>"
            ],
            "text/plain": [
              "           Borough Postal Code  ...  Longitude                       Coordinates\n",
              "0  Central Toronto         M4N  ... -79.388790         (43.7280205, -79.3887901)\n",
              "1  Central Toronto         M4P  ... -79.390197         (43.7127511, -79.3901975)\n",
              "2  Central Toronto         M4R  ... -79.405678  (43.7153834, -79.40567840000001)\n",
              "3  Central Toronto         M4S  ... -79.388790         (43.7043244, -79.3887901)\n",
              "4  Central Toronto         M4T  ... -79.383160  (43.6895743, -79.38315990000001)\n",
              "\n",
              "[5 rows x 6 columns]"
            ]
          },
          "metadata": {
            "tags": []
          },
          "execution_count": 21
        }
      ]
    },
    {
      "cell_type": "code",
      "metadata": {
        "id": "x9foYIcthXCf"
      },
      "source": [
        "merged_data['Coordinates'] = merged_data['Coordinates'].apply(Point)"
      ],
      "execution_count": 22,
      "outputs": []
    },
    {
      "cell_type": "code",
      "metadata": {
        "id": "LoBT1aZhhXCr"
      },
      "source": [
        "gdf = gpd.GeoDataFrame(merged_data, geometry='Coordinates')"
      ],
      "execution_count": 23,
      "outputs": []
    },
    {
      "cell_type": "code",
      "metadata": {
        "id": "zPPGFv5ShXC2",
        "outputId": "e05a2a45-ff8a-4559-97a4-1523f1b7f612",
        "colab": {
          "base_uri": "https://localhost:8080/",
          "height": 195
        }
      },
      "source": [
        "gdf.head()"
      ],
      "execution_count": 24,
      "outputs": [
        {
          "output_type": "execute_result",
          "data": {
            "text/html": [
              "<div>\n",
              "<style scoped>\n",
              "    .dataframe tbody tr th:only-of-type {\n",
              "        vertical-align: middle;\n",
              "    }\n",
              "\n",
              "    .dataframe tbody tr th {\n",
              "        vertical-align: top;\n",
              "    }\n",
              "\n",
              "    .dataframe thead th {\n",
              "        text-align: right;\n",
              "    }\n",
              "</style>\n",
              "<table border=\"1\" class=\"dataframe\">\n",
              "  <thead>\n",
              "    <tr style=\"text-align: right;\">\n",
              "      <th></th>\n",
              "      <th>Borough</th>\n",
              "      <th>Postal Code</th>\n",
              "      <th>Neighbourhood</th>\n",
              "      <th>Latitude</th>\n",
              "      <th>Longitude</th>\n",
              "      <th>Coordinates</th>\n",
              "    </tr>\n",
              "  </thead>\n",
              "  <tbody>\n",
              "    <tr>\n",
              "      <th>0</th>\n",
              "      <td>Central Toronto</td>\n",
              "      <td>M4N</td>\n",
              "      <td>Lawrence Park</td>\n",
              "      <td>43.728020</td>\n",
              "      <td>-79.388790</td>\n",
              "      <td>POINT (43.72802 -79.38879)</td>\n",
              "    </tr>\n",
              "    <tr>\n",
              "      <th>1</th>\n",
              "      <td>Central Toronto</td>\n",
              "      <td>M4P</td>\n",
              "      <td>Davisville North</td>\n",
              "      <td>43.712751</td>\n",
              "      <td>-79.390197</td>\n",
              "      <td>POINT (43.71275 -79.39020)</td>\n",
              "    </tr>\n",
              "    <tr>\n",
              "      <th>2</th>\n",
              "      <td>Central Toronto</td>\n",
              "      <td>M4R</td>\n",
              "      <td>North Toronto West, Lawrence Park</td>\n",
              "      <td>43.715383</td>\n",
              "      <td>-79.405678</td>\n",
              "      <td>POINT (43.71538 -79.40568)</td>\n",
              "    </tr>\n",
              "    <tr>\n",
              "      <th>3</th>\n",
              "      <td>Central Toronto</td>\n",
              "      <td>M4S</td>\n",
              "      <td>Davisville</td>\n",
              "      <td>43.704324</td>\n",
              "      <td>-79.388790</td>\n",
              "      <td>POINT (43.70432 -79.38879)</td>\n",
              "    </tr>\n",
              "    <tr>\n",
              "      <th>4</th>\n",
              "      <td>Central Toronto</td>\n",
              "      <td>M4T</td>\n",
              "      <td>Moore Park, Summerhill East</td>\n",
              "      <td>43.689574</td>\n",
              "      <td>-79.383160</td>\n",
              "      <td>POINT (43.68957 -79.38316)</td>\n",
              "    </tr>\n",
              "  </tbody>\n",
              "</table>\n",
              "</div>"
            ],
            "text/plain": [
              "           Borough Postal Code  ...  Longitude                 Coordinates\n",
              "0  Central Toronto         M4N  ... -79.388790  POINT (43.72802 -79.38879)\n",
              "1  Central Toronto         M4P  ... -79.390197  POINT (43.71275 -79.39020)\n",
              "2  Central Toronto         M4R  ... -79.405678  POINT (43.71538 -79.40568)\n",
              "3  Central Toronto         M4S  ... -79.388790  POINT (43.70432 -79.38879)\n",
              "4  Central Toronto         M4T  ... -79.383160  POINT (43.68957 -79.38316)\n",
              "\n",
              "[5 rows x 6 columns]"
            ]
          },
          "metadata": {
            "tags": []
          },
          "execution_count": 24
        }
      ]
    },
    {
      "cell_type": "code",
      "metadata": {
        "id": "_0qqs_FGhXDA",
        "outputId": "89493343-98a2-414f-bda5-d12bc4a0c335",
        "colab": {
          "base_uri": "https://localhost:8080/",
          "height": 298
        }
      },
      "source": [
        "cities = gpd.read_file(gpd.datasets.get_path('naturalearth_cities'))\n",
        "ax = cities[cities.name == \"Toronto\"].plot(\n",
        "    color='green', edgecolor='black')\n",
        "\n",
        "gdf.plot(ax=ax, color='red')\n",
        "\n",
        "plt.show()"
      ],
      "execution_count": 25,
      "outputs": [
        {
          "output_type": "stream",
          "text": [
            "/usr/local/lib/python3.6/dist-packages/geopandas/plotting.py:607: UserWarning: The GeoDataFrame you are attempting to plot is empty. Nothing has been displayed.\n",
            "  UserWarning,\n"
          ],
          "name": "stderr"
        },
        {
          "output_type": "display_data",
          "data": {
            "image/png": "[encoded data removed]",
            "text/plain": [
              "<Figure size 432x288 with 1 Axes>"
            ]
          },
          "metadata": {
            "tags": [],
            "needs_background": "light"
          }
        }
      ]
    },
    {
      "cell_type": "markdown",
      "metadata": {
        "id": "J_B-3ttXi477"
      },
      "source": [
        "\n",
        "\n",
        "---\n",
        "## **Created by Brown-Boi-Nash**\n"
      ]
    },
    {
      "cell_type": "code",
      "metadata": {
        "id": "qKqPEViuXxBf"
      },
      "source": [
        ""
      ],
      "execution_count": null,
      "outputs": []
    }
  ]
}